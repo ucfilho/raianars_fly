{
  "nbformat": 4,
  "nbformat_minor": 0,
  "metadata": {
    "colab": {
      "name": "RTC_DE_desmonta_IF_new_12_fev_22_2020.ipynb",
      "provenance": [],
      "collapsed_sections": [],
      "include_colab_link": true
    },
    "kernelspec": {
      "name": "python3",
      "display_name": "Python 3"
    }
  },
  "cells": [
    {
      "cell_type": "markdown",
      "metadata": {
        "id": "view-in-github",
        "colab_type": "text"
      },
      "source": [
        "<a href=\"https://colab.research.google.com/github/ucfilho/raianars_fly/blob/master/RTC_DE_desmonta_IF_new_12_fev_22_2020.ipynb\" target=\"_parent\"><img src=\"https://colab.research.google.com/assets/colab-badge.svg\" alt=\"Open In Colab\"/></a>"
      ]
    },
    {
      "cell_type": "code",
      "metadata": {
        "id": "wGzR2VpcZHYA",
        "colab_type": "code",
        "colab": {}
      },
      "source": [
        "\n",
        "from scipy.optimize import differential_evolution\n",
        "import numpy as np"
      ],
      "execution_count": 0,
      "outputs": []
    },
    {
      "cell_type": "code",
      "metadata": {
        "id": "2htdoQZEvKVl",
        "colab_type": "code",
        "colab": {}
      },
      "source": [
        "# Funcoes utilizadas neste codigo\n",
        "# Area(U,tempAtual,tempInicial,...): constroi matriz de areas trocadores \n",
        "#                                    entra duas correntes sendo chamada no loop\n",
        "# buildMatriz(x,cols): constroi a matriz deltaT e binaria (logica de trocas)\n",
        "#\n",
        "# Temperatura(matrizDeltaT,...): constroi as temperaturas e cargas termicas"
      ],
      "execution_count": 0,
      "outputs": []
    },
    {
      "cell_type": "code",
      "metadata": {
        "id": "QH4J60cSP2OX",
        "colab_type": "code",
        "colab": {}
      },
      "source": [
        "def buildMatriz(x,cols):\n",
        "\n",
        "  nref=int(len(x)/2) # metade de x é deltaT e a outra metade variavel logica\n",
        "  matrizDeltaT=np.zeros((cols,cols))\n",
        "  matrizBinaria=np.zeros((cols,cols))\n",
        "\n",
        "  contador=0\n",
        "  for i in range(cols):\n",
        "    for j in range(cols):\n",
        "      soma=contador+nref\n",
        "      #print('%d %d %d %d %d'%(i,j,contador,nref,soma))\n",
        "      flag=0\n",
        "      if(i<j):\n",
        "        if(contador<nref):\n",
        "          flag=1\n",
        "      if(flag>0):\n",
        "        matrizDeltaT[i,j]=x[contador]\n",
        "        matrizBinaria[i,j]=round(x[contador+nref])\n",
        "        contador=contador+1\n",
        "        \n",
        "  return matrizDeltaT,matrizBinaria"
      ],
      "execution_count": 0,
      "outputs": []
    },
    {
      "cell_type": "code",
      "metadata": {
        "id": "Ha_XxG-tT7yB",
        "colab_type": "code",
        "colab": {}
      },
      "source": [
        "def Temperatura_Carga(mCp,matrizDeltaT,matrizBinaria,tempInicial):\n",
        "\n",
        "  cols=len(mCp)\n",
        "  cargaTermica=np.zeros((cols,cols))\n",
        "  contador=0\n",
        "  erro=0 # valor erro se torna erro=1 quando ha algum erro e vai penalizar\n",
        "  for i in range(cols):\n",
        "    for j in range(cols):\n",
        "      contador=contador+1\n",
        "      cargaTermica[i,j]=mCp[i]*matrizDeltaT[i,j]\n",
        "\n",
        "      if(i<j):\n",
        "        if(matrizBinaria[i,j]==1):\n",
        "          #i: CQ, j: CF\n",
        "          tempSaidaQ=tempAtual[i]+matrizDeltaT[i,j]\n",
        "          tempSaidaF=-cargaTermica[i,j]/(mCp[j])+tempAtual[j]\n",
        "          flag=0 # flag : indica que nao entra no teste logico\n",
        "          # usei flag no lugar q ifs pq a identacao ficou melhor assim\n",
        "          if(tempAtual[i] > tempAtual[j]): #Tquente maior Tfria: vaores atuais\n",
        "            if(tempSaidaQ > tempSaidaF): #Tquente maior Tfria: saidas\n",
        "              if(contador < cols):\n",
        "                flag=1\n",
        "          \n",
        "          if(flag>0):\n",
        "            tempAtual[i]=tempSaidaQ\n",
        "            tempAtual[j]=tempSaidaF\n",
        "          else:\n",
        "            erro=1\n",
        "\n",
        "\n",
        "  return tempAtual,cargaTermica,erro"
      ],
      "execution_count": 0,
      "outputs": []
    },
    {
      "cell_type": "code",
      "metadata": {
        "id": "_fKh1jXRcAOr",
        "colab_type": "code",
        "colab": {}
      },
      "source": [
        "def Area(U,tempAtual,tempInicial,cargaTermica,matrizDeltaT):\n",
        "  cols=len(tempInicial)\n",
        "  Trocador=np.zeros((cols,cols)) # matriz q armazena as areas dos trocadores\n",
        "  Soma_Area=0\n",
        "\n",
        "  for i in range(cols):\n",
        "    for j in range(cols):\n",
        "      if(i<j):\n",
        "        Carga=cargaTermica[i,j]\n",
        "        # calcula a area de placas das duas correntes que trocam i e j\n",
        "\n",
        "        #a corrente i perde calor para a j\n",
        "        #i: CQ, j:CF\n",
        "        tempSaidaF=tempAtual[j]\n",
        "        tempSaidaQ=tempAtual[i]\n",
        "        try:\n",
        "          A=((tempSaidaQ-tempSaidaF)-(tempAtual[i]-tempAtual[j]))\n",
        "          B=np.log((tempSaidaQ-tempSaidaF)/(tempAtual[i]-tempAtual[j]))\n",
        "          deltaTMediaLog=A/B\n",
        "        except:\n",
        "          deltaTMediaLog=1e99\n",
        " \n",
        "        if(deltaTMediaLog==1e99):  \n",
        "          AreaCalc=1e99\n",
        "        else:\n",
        "          AreaCalc=abs(Carga/(U*deltaTMediaLog))\n",
        "\n",
        "        if(tempAtual[i]==tempInicial[i]):\n",
        "          AreaCalc=0\n",
        "\n",
        "        if(tempAtual[j]==tempInicial[j]):\n",
        "          AreaCalc=0\n",
        "\n",
        "        Soma_Area=Soma_Area+AreaCalc\n",
        "\n",
        "        Trocador[i,j]=AreaCalc\n",
        "\n",
        "  return Soma_Area,Trocador"
      ],
      "execution_count": 0,
      "outputs": []
    },
    {
      "cell_type": "code",
      "metadata": {
        "id": "oJ7p1UbEHs4c",
        "colab_type": "code",
        "colab": {}
      },
      "source": [
        "def Utilidades(tempAlvo,tempAtual,mCp):\n",
        "\n",
        "  cols=len(mCp)\n",
        "  cargaUQ=0\n",
        "  cargaUF=0\n",
        "  areaTrocador=0\n",
        "  Trocadores=np.zeros(cols)\n",
        "  '''\n",
        "  caso I cita TUQin=553 e TQout=552, TUFin=303 TUFout=353\n",
        "  '''\n",
        "  TUQin=553\n",
        "  TUQout=552\n",
        "  TUFin=303 \n",
        "  TUFout=353\n",
        "  for i in range(cols):\n",
        "    deltaT=tempAlvo[i]-tempAtual[i]\n",
        "    if(deltaT>0):#usa UQ\n",
        "      cargaUQ=cargaUQ+mCp[i]*deltaT\n",
        "      deltaT1=(TUQout-tempAlvo[i])\n",
        "      deltaT2=(TUQin-tempAtual[i])\n",
        "\n",
        "      try:\n",
        "\n",
        "        A=deltaT1-deltaT2\n",
        "        B=np.log(deltaT1/deltaT2)\n",
        "        deltaTMediaLog=A/B\n",
        "      except:\n",
        "        deltaTMediaLog=1e99\n",
        "      areaTrocador=areaTrocador+abs(mCp[i]*(deltaT)/(U*deltaTMediaLog))\n",
        "    elif(deltaT==0):#nao usa UF e UQ\n",
        "      deltaTMediaLog=0      \n",
        "    else:#usa UF\n",
        "      deltaT1=(tempAlvo[i]-TUFout)\n",
        "      deltaT2=(tempAtual[i]-TUFin)     \n",
        "      cargaUF=cargaUF+mCp[i]*(-deltaT)\n",
        "\n",
        "      #UF -> água resfriada -> entra a 5ºC e sai a 20ºC\n",
        "      try:\n",
        "        A=deltaT1-deltaT2\n",
        "        B=np.log(deltaT1/deltaT2)\n",
        "        deltaTMediaLog=A/B\n",
        "      except:\n",
        "        deltaTMediaLog=1e99\n",
        "      \n",
        "      if(deltaTMediaLog==1e99):\n",
        "        areaTrocador=1e99\n",
        "        Trocadores[i]=1e99\n",
        "      else:\n",
        "        Trocadores[i]=abs(mCp[i]*(-deltaT)/(U*deltaTMediaLog))\n",
        "        areaTrocador=areaTrocador+Trocadores[i]\n",
        "\n",
        "  return areaTrocador, Trocadores, cargaUF,cargaUQ \n",
        "  # areaTrocador contem a soma das areas\n",
        "  # Trocadores a area associada a cada corrente\n",
        "  # cargaUF e cargaUQ kW gasto"
      ],
      "execution_count": 0,
      "outputs": []
    },
    {
      "cell_type": "code",
      "metadata": {
        "id": "lmPfZ7arakM1",
        "colab_type": "code",
        "colab": {}
      },
      "source": [
        "#FUN calcula o TAC para um determinado arranjo\n",
        "#  cada calculo é feito em uma funcao a parte Fun usa todas funcoes \n",
        "\n",
        "def FUN(x):\n",
        "\n",
        "  global mCp,tempAtual,tempAlvo,U,coefCustoUQ,coefCustoUF\n",
        "  \n",
        "  cols=len(mCp)\n",
        "  tempInicial=np.copy(tempAtual) \n",
        "  matrizDeltaT,matrizBinaria=buildMatriz(x,cols) # transforma x em matriz logica e troca\n",
        "  tempAtual,Carga,Erro=Temperatura_Carga(mCp,matrizDeltaT,matrizBinaria,tempInicial)\n",
        "  areaTrocador,matrizArea =Area(U,tempAtual,tempInicial,Carga,matrizDeltaT)\n",
        "  areaUtilidade, TrocaUtilidade, cargaUF, cargaUQ = Utilidades(tempAlvo,tempAtual,mCp)\n",
        "\n",
        "  costTrocador=300*(areaTrocador+areaUtilidade)**0.5\n",
        "\n",
        "  costUQ=coefCustoUQ*cargaUQ\n",
        "  costUF=coefCustoUF*cargaUF\n",
        "\n",
        "  cost=costUQ+costUF+costTrocador\n",
        "\n",
        "  funr = np.where(np.isnan(cost), 1e99, cost)\n",
        "  \n",
        "  if(Erro>0):\n",
        "    funr=1e99\n",
        "\n",
        "\n",
        "  return funr"
      ],
      "execution_count": 0,
      "outputs": []
    },
    {
      "cell_type": "code",
      "metadata": {
        "id": "pU4mX9rEn8CZ",
        "colab_type": "code",
        "colab": {}
      },
      "source": [
        "#MATGRAF retorna o gráfico das trocas térmicas em cada trocador\n",
        "# function matrizGrafico=MATGRAF(matrizDeltaT,mCp,tempAtual)\n",
        "def MATGRAF(matrizDeltaT,mCp,tempAtual):\n",
        "  cols=len(mCp)\n",
        "  matrizGrafico=np.zeros((cols,cols))\n",
        "  contador=0\n",
        "  matrizGrafico[:,0]=tempAtual\n",
        "  for i in range(cols):\n",
        "    for j in range(cols):\n",
        "      if(i<j):\n",
        "        contador=contador+1\n",
        "        # i: CQ, j:CF\n",
        "        cargaTermica=mCp[i]*matrizDeltaT[i,j]\n",
        "        tempSaidaQ=tempAtual[i]+matrizDeltaT[i,j]\n",
        "        tempSaidaF=-cargaTermica/(mCp[j])+tempAtual[j]\n",
        "\n",
        "        flag=0 # flag : indica que nao entra no teste logico\n",
        "        # usei flag no lugar ifs pq identacao ficou melhor \n",
        "        if(tempAtual[i] > tempAtual[j]): #Tquente maior Tfria: valores atuais\n",
        "          if(tempSaidaQ > tempSaidaF): #Tquente maior Tfria: saidas\n",
        "            if(contador < cols):\n",
        "              flag=1\n",
        "        \n",
        "\n",
        "        if(flag>0):\n",
        "          tempAtual[i]=tempSaidaQ\n",
        "          tempAtual[j]=tempSaidaF\n",
        "          matrizGrafico[:,contador]=tempAtual\n",
        "          \n",
        "\n",
        "  return matrizGrafico"
      ],
      "execution_count": 0,
      "outputs": []
    },
    {
      "cell_type": "code",
      "metadata": {
        "id": "6p2pNTe-pBJH",
        "colab_type": "code",
        "colab": {}
      },
      "source": [
        "#MATBEST retorna a matriz com os deltas das trocas térmicas que ocorreram e a matriz binária\n",
        "# function [matrizTrocaBest,matrizBinaria]=MATBEST(x,mCp,tempAtual)\n",
        "def MATBEST(x,mCp,tempAtual):\n",
        "  \n",
        "  nref=int(len(x)/2)\n",
        "  #nref=0\n",
        "  cols=len(mCp)\n",
        "\n",
        "  # cada particula contem metade das variaveis para matriz binaria\n",
        "  # e outra metade para deltaT nref e para separar os dois casos\n",
        "  matrizDeltaT=np.zeros((cols,cols))\n",
        "  matrizTrocaBest=np.zeros((cols,cols))\n",
        "  matrizBinaria=np.zeros((cols,cols))\n",
        "\n",
        "  # contador=-1\n",
        "  contador=0\n",
        "  for i in range(cols):\n",
        "    for j in range(cols):\n",
        "      if(i<j):\n",
        "        # contador=contador+1\n",
        "        matrizDeltaT[i,j]=x[contador]\n",
        "        matrizBinaria[i,j]=round(x[contador+nref])\n",
        "        contador=contador+1\n",
        "    \n",
        "  \n",
        "    tempSaidaQ=0;tempSaidaF=0;cargaTermica=0\n",
        "    for i in range(cols):\n",
        "      for j in range(cols):\n",
        "        if(i<j):\n",
        "          if(matrizBinaria[i,j]==1):\n",
        "            if(matrizDeltaT[i,j]<0):#a corrente i perde calor para a j \n",
        "              #i: CQ, j: CF\n",
        "              cargaTermica=mCp[i]*matrizDeltaT[i,j]\n",
        "              tempSaidaQ=tempAtual[i]+matrizDeltaT[i,j]\n",
        "              tempSaidaF=-cargaTermica/(mCp[j])+tempAtual[j]\n",
        "              if(\n",
        "                  tempAtual[i]>tempAtual[j] and\n",
        "                  tempSaidaQ>tempAtual[j] and\n",
        "                  tempAtual[i]>tempSaidaF\n",
        "                ): #TQentra>TFentra & TQsai>TFentra & TQentra>TFsai\n",
        "                tempAtual[i]=tempSaidaQ\n",
        "                tempAtual[j]=tempSaidaF\n",
        "              else:\n",
        "                matrizDeltaT[i,j]=0\n",
        "            else:#a corrente i ganha calor da j\n",
        "              # i: CF, j:CQ\n",
        "              cargaTermica=mCp[i]*matrizDeltaT[i,j]\n",
        "              tempSaidaF=tempAtual[i]+matrizDeltaT[i,j]\n",
        "              tempSaidaQ=-cargaTermica/(mCp[j])+tempAtual[j]\n",
        "              if(\n",
        "                  tempAtual[i]<tempAtual[j] and\n",
        "                  tempSaidaF<tempAtual[j] and\n",
        "                  tempAtual[i]<tempSaidaQ\n",
        "                 ):\n",
        "                #TFentra<TQentra & TFsai<TQentra & TFentra<TQsai\n",
        "                tempAtual[i]=tempSaidaF\n",
        "                tempAtual[j]=tempSaidaQ\n",
        "              else:\n",
        "                matrizDeltaT[i,j]=0\n",
        "          else:\n",
        "            matrizDeltaT[i,j]=0\n",
        "  #print('contador=',contador)\n",
        "  matrizTrocaBest=matrizDeltaT\n",
        "  return matrizTrocaBest,matrizBinaria"
      ],
      "execution_count": 0,
      "outputs": []
    },
    {
      "cell_type": "code",
      "metadata": {
        "id": "Dt6anZvATxzg",
        "colab_type": "code",
        "colab": {}
      },
      "source": [
        "#********************PROGRAMA PRINCIPAL*************************\n",
        "\n",
        "NPAR=100 #Número de partículas\n",
        "ITE=1000 #Número de iterações\n",
        "PAR=12 #Número de parâmetros a ser otimizados\n",
        "\n",
        "MAX=[0,0,0,0,0,0,1,1,1,1,1,1]\n",
        "MIN=[-100,-100,-100,-100,-100,-100,0,0,0,0,0,0]\n",
        "mCp=[4,2,1.5,3] #[kW/K]\n",
        "tempInicial=[453,393,523,533] #[K]\n",
        "tempAtual=[453,393,523,533] #[K]\n",
        "tempAlvo=[513,508,403,433] #[K]\n",
        "U=0.2 #[kW/(m2.K)]\n",
        "coefCustoUQ=110 #[$/(kW.ano)]\n",
        "coefCustoUF=12.2 #[$/(kW.ano)]\n",
        "\n",
        "bounds = []\n",
        "for i in range(12):\n",
        "  bounds.append((MAX[i],MIN[i]))\n",
        "\n"
      ],
      "execution_count": 0,
      "outputs": []
    },
    {
      "cell_type": "code",
      "metadata": {
        "id": "5qNdVcQ0HmQm",
        "colab_type": "code",
        "outputId": "81bb9f03-0055-4e9c-d394-959b0c132b29",
        "colab": {
          "base_uri": "https://localhost:8080/",
          "height": 319
        }
      },
      "source": [
        "\n",
        "fchoice=FUN\n",
        "result = differential_evolution(fchoice, bounds, maxiter=ITE, popsize=NPAR)\n",
        "print('temperatura atual=',tempAtual)\n",
        "print(result.x, result.fun)\n",
        "print(tempAtual)\n",
        "GBEST=result.x\n",
        "BEST=result.fun\n",
        "matrizTrocaBest,matrizBinaria=MATBEST(GBEST,mCp,tempAtual)\n",
        "matrizGrafico=MATGRAF(matrizTrocaBest,mCp,tempAtual)\n",
        "\n",
        "print('Melhor solução para %d iterações com %d partículas \\n'%(ITE,NPAR));print(GBEST)\n",
        "print('Valor da função f(gbest)=%f \\n'%BEST)\n",
        "print('matriz grafico');print(matrizGrafico)\n",
        "#print('Matriz de Trocas Térmicas \\n')\n",
        "#print(matrizTrocaBest)\n",
        "#print('Matriz Binária \\n')\n",
        "#print(matrizBinaria)\n"
      ],
      "execution_count": 11,
      "outputs": [
        {
          "output_type": "stream",
          "text": [
            "/usr/local/lib/python3.6/dist-packages/ipykernel_launcher.py:19: RuntimeWarning: invalid value encountered in double_scalars\n"
          ],
          "name": "stderr"
        },
        {
          "output_type": "stream",
          "text": [
            "temperatura atual= [433.1638186468277, 432.6723627063445, 523, 533]\n",
            "[-8.32998395e+01 -7.01271313e+01 -3.77428358e+01 -2.44679814e+01\n",
            " -1.23951796e+01 -4.10584674e+01  2.78228169e-02  2.04409927e-01\n",
            "  3.66514184e-01  6.52172838e-03  3.60751219e-01  6.66139102e-02] 59687.85608344324\n",
            "[433.1638186468277, 432.6723627063445, 523, 533]\n",
            "Melhor solução para 1000 iterações com 100 partículas \n",
            "\n",
            "[-8.32998395e+01 -7.01271313e+01 -3.77428358e+01 -2.44679814e+01\n",
            " -1.23951796e+01 -4.10584674e+01  2.78228169e-02  2.04409927e-01\n",
            "  3.66514184e-01  6.52172838e-03  3.60751219e-01  6.66139102e-02]\n",
            "Valor da função f(gbest)=59687.856083 \n",
            "\n",
            "matriz grafico\n",
            "[[433.16381865 433.16381865   0.           0.        ]\n",
            " [432.67236271 432.67236271   0.           0.        ]\n",
            " [523.         523.           0.           0.        ]\n",
            " [533.         533.           0.           0.        ]]\n"
          ],
          "name": "stdout"
        }
      ]
    },
    {
      "cell_type": "code",
      "metadata": {
        "id": "FFLGL1pzftiq",
        "colab_type": "code",
        "colab": {
          "base_uri": "https://localhost:8080/",
          "height": 218
        },
        "outputId": "bc692e42-1197-4be0-cdff-8dbcf12abd81"
      },
      "source": [
        "cols=len(mCp)\n",
        "matrizDeltaT,matrizBinaria=buildMatriz(GBEST,cols) # transforma x em matriz logica e troca\n",
        "tempAtual,cargaTermica,erro=Temperatura_Carga(mCp,matrizDeltaT,matrizBinaria,tempInicial)\n",
        "Soma_Area,Trocador=Area(U,tempAtual,tempInicial,cargaTermica,matrizDeltaT)\n",
        "\n",
        "print('temperatura inicial');print(tempInicial)\n",
        "print('temperatura alvo');print(tempAlvo)\n",
        "print('temperatura atual');print(tempAtual)\n",
        "print('trocador');print(Trocador)"
      ],
      "execution_count": 12,
      "outputs": [
        {
          "output_type": "stream",
          "text": [
            "temperatura inicial\n",
            "[453, 393, 523, 533]\n",
            "temperatura alvo\n",
            "[513, 508, 403, 433]\n",
            "temperatura atual\n",
            "[433.1638186468277, 432.6723627063445, 523, 533]\n",
            "trocador\n",
            "[[ 0. nan  0.  0.]\n",
            " [ 0.  0.  0.  0.]\n",
            " [ 0.  0.  0.  0.]\n",
            " [ 0.  0.  0.  0.]]\n"
          ],
          "name": "stdout"
        },
        {
          "output_type": "stream",
          "text": [
            "/usr/local/lib/python3.6/dist-packages/ipykernel_launcher.py:19: RuntimeWarning: invalid value encountered in double_scalars\n"
          ],
          "name": "stderr"
        }
      ]
    },
    {
      "cell_type": "code",
      "metadata": {
        "id": "-pLfJUMDh1vx",
        "colab_type": "code",
        "colab": {
          "base_uri": "https://localhost:8080/",
          "height": 84
        },
        "outputId": "dbdf6a95-025e-458a-c0ff-f4e3f3ce3c1a"
      },
      "source": [
        "print(cols)\n",
        "print(GBEST)"
      ],
      "execution_count": 13,
      "outputs": [
        {
          "output_type": "stream",
          "text": [
            "4\n",
            "[-8.32998395e+01 -7.01271313e+01 -3.77428358e+01 -2.44679814e+01\n",
            " -1.23951796e+01 -4.10584674e+01  2.78228169e-02  2.04409927e-01\n",
            "  3.66514184e-01  6.52172838e-03  3.60751219e-01  6.66139102e-02]\n"
          ],
          "name": "stdout"
        }
      ]
    },
    {
      "cell_type": "code",
      "metadata": {
        "id": "p_h7HnO3zySn",
        "colab_type": "code",
        "colab": {
          "base_uri": "https://localhost:8080/",
          "height": 218
        },
        "outputId": "a034e319-c8f7-4864-93b3-acf6a0454da0"
      },
      "source": [
        "matrizDeltaT,matrizBinaria=buildMatriz(GBEST,cols) # transforma x em matriz logica e troca\n",
        "print('Matriz de Trocas Térmicas \\n')\n",
        "print(matrizDeltaT)\n",
        "print('Matriz Binária \\n')\n",
        "print(matrizBinaria)"
      ],
      "execution_count": 14,
      "outputs": [
        {
          "output_type": "stream",
          "text": [
            "Matriz de Trocas Térmicas \n",
            "\n",
            "[[  0.         -83.29983949 -70.12713131 -37.74283577]\n",
            " [  0.           0.         -24.46798143 -12.39517956]\n",
            " [  0.           0.           0.         -41.05846741]\n",
            " [  0.           0.           0.           0.        ]]\n",
            "Matriz Binária \n",
            "\n",
            "[[0. 0. 0. 0.]\n",
            " [0. 0. 0. 0.]\n",
            " [0. 0. 0. 0.]\n",
            " [0. 0. 0. 0.]]\n"
          ],
          "name": "stdout"
        }
      ]
    }
  ]
}