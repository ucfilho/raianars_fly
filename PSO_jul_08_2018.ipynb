{
  "nbformat": 4,
  "nbformat_minor": 0,
  "metadata": {
    "kernelspec": {
      "display_name": "Python 3",
      "language": "python",
      "name": "python3"
    },
    "language_info": {
      "codemirror_mode": {
        "name": "ipython",
        "version": 3
      },
      "file_extension": ".py",
      "mimetype": "text/x-python",
      "name": "python",
      "nbconvert_exporter": "python",
      "pygments_lexer": "ipython3",
      "version": "3.7.1"
    },
    "colab": {
      "name": "PSO_jul_08_2018.ipynb",
      "provenance": [],
      "include_colab_link": true
    }
  },
  "cells": [
    {
      "cell_type": "markdown",
      "metadata": {
        "id": "view-in-github",
        "colab_type": "text"
      },
      "source": [
        "<a href=\"https://colab.research.google.com/github/ucfilho/raianars_fly/blob/master/PSO_jul_08_2018.ipynb\" target=\"_parent\"><img src=\"https://colab.research.google.com/assets/colab-badge.svg\" alt=\"Open In Colab\"/></a>"
      ]
    },
    {
      "cell_type": "code",
      "metadata": {
        "id": "V8FNYCJVc0Nh",
        "colab_type": "code",
        "colab": {}
      },
      "source": [
        "import numpy as np\n",
        "import pandas as pd"
      ],
      "execution_count": 0,
      "outputs": []
    },
    {
      "cell_type": "code",
      "metadata": {
        "id": "rc_Gx4NXc0Nu",
        "colab_type": "code",
        "colab": {}
      },
      "source": [
        "'''Rosembrock Function'''\n",
        "def Rosenbrock(x):\n",
        "    fun=0\n",
        "    a=1.0\n",
        "    b=100.0\n",
        "    fun = (a-x[0])**2 + b*(x[1]-x[0]**2)**2\n",
        "    return fun"
      ],
      "execution_count": 0,
      "outputs": []
    },
    {
      "cell_type": "code",
      "metadata": {
        "id": "JmbSC5CQc0N2",
        "colab_type": "code",
        "colab": {}
      },
      "source": [
        "''' \n",
        "FOBJ gera vetorialmente os valores com a funcao objetivo escalar\n",
        "em outras palavras gera para populacao o valor da funcao \n",
        "a ser otimizada\n",
        "'''\n",
        "def FOBJ(X):\n",
        "    rows = X.shape[0]\n",
        "    fobj=np.zeros(rows)\n",
        "    for i in range(rows):\n",
        "        fobj[i]=Rosenbrock(X[i,])\n",
        "    return fobj"
      ],
      "execution_count": 0,
      "outputs": []
    },
    {
      "cell_type": "code",
      "metadata": {
        "id": "Q5DDsWjKc0N-",
        "colab_type": "code",
        "colab": {}
      },
      "source": [
        "'''Enxame retorna a populacao aleatoria'''  \n",
        "def Enxame(PAR,NPAR,MAX,MIN):\n",
        "    x=np.zeros((NPAR, len(MAX)))\n",
        "    for j in range(len(MAX)):\n",
        "        for i in range(NPAR):\n",
        "            x[i,j]=MIN[j]+(MAX[j]-MIN[j])*np.random.random()\n",
        "    return x"
      ],
      "execution_count": 0,
      "outputs": []
    },
    {
      "cell_type": "code",
      "metadata": {
        "id": "jIiGLMEMc0OF",
        "colab_type": "code",
        "colab": {}
      },
      "source": [
        "'''\n",
        "VE rotina velocidade utilizada na correcao das particulas\n",
        "'''\n",
        "def VE(X,VEL,BEST,PBEST,W,C1,C2,MAX,MIN):\n",
        "    rows = X.shape[0]\n",
        "    cols = X.shape[1]\n",
        "    VEL=np.zeros((rows, cols))\n",
        "    for i in range(rows):\n",
        "        for j in range(cols):\n",
        "            R1=np.random.random()\n",
        "            R2=np.random.random()\n",
        "            VELOCIDADE=W*VEL[i,j]+C1*R1*(PBEST[i,j]-X[i,j])+C2*R2*(BEST[j]-X[i,j])\n",
        "            if(VELOCIDADE> MAX[j]):\n",
        "                VELOCIDADE=0.2*MAX[j]\n",
        "            if(VELOCIDADE<MIN[j]):\n",
        "                VELOCIDADE=0.2*MIN[j]\n",
        "            VEL[i,j]=np.copy(VELOCIDADE)\n",
        "            X[i,j]=X[i,j]+VEL[i,j]\n",
        "    return X, VEL"
      ],
      "execution_count": 0,
      "outputs": []
    },
    {
      "cell_type": "code",
      "metadata": {
        "id": "EYoDcW5Nc0ON",
        "colab_type": "code",
        "colab": {}
      },
      "source": [
        "'''PART atualiza PBEST (melhor de cada particula)'''\n",
        "def PART(x,xnew):\n",
        "    rows = x.shape[0]\n",
        "    cols  = x.shape[1]\n",
        "    YCAL=FOBJ(x)\n",
        "    NEW=FOBJ(xnew) #xnew vem da rotina velocidade!!!!\n",
        "    for i in range(rows):\n",
        "        if(YCAL[i]>NEW[i]):\n",
        "            x[i,]=np.copy(xnew[i,])\n",
        "    PBEST=np.copy(x)        \n",
        "    return PBEST"
      ],
      "execution_count": 0,
      "outputs": []
    },
    {
      "cell_type": "code",
      "metadata": {
        "id": "huTmRvjIc0OW",
        "colab_type": "code",
        "colab": {}
      },
      "source": [
        "def PSO(W,C1,C2,NPAR,ITE,PAR,MAX,MIN):\n",
        "    #rows = x.shape[0]\n",
        "    #cols  = x.shape[1]\n",
        "    x=Enxame(PAR,NPAR,MAX,MIN)# gera populacao inicial aleatoria\n",
        "    PBEST=np.copy(x) # inicialmente eh aleatorio\n",
        "    YCAL=FOBJ(x) # estima a funcao nos valores aleatorios\n",
        "    best=np.argmin(YCAL)\n",
        "    GBEST=PBEST[best] # melhor global: isto primeira interacao\n",
        "    BEST=YCAL[best]\n",
        "    VEL=Enxame(PAR,NPAR,MAX,MIN) # velocidades define aleatoria no primeiro uso\n",
        "    \n",
        "    for i in range(ITE):\n",
        "        xnew,VEL=VE(VEL,x,GBEST,PBEST,W,C1,C2,MAX,MIN)# nova atualizacao de x utilizando as velocidades\n",
        "        PBEST=PART(x,xnew) #atualizcao de PBEST (sempre atualiza com a nova busca)\n",
        "        #YCAL=FOBJ(xnew)\n",
        "        YCAL=FOBJ(PBEST)\n",
        "        new=np.argmin(YCAL)\n",
        "        NEW=YCAL[new]\n",
        "        if(NEW<BEST):\n",
        "            GBEST=xnew[new]\n",
        "            BEST=NEW\n",
        "        x=xnew\n",
        "        Y=FOBJ(xnew)\n",
        "        M=np.hstack((x, np.atleast_2d(Y).T))\n",
        "    return x,M,BEST\n",
        "        "
      ],
      "execution_count": 0,
      "outputs": []
    },
    {
      "cell_type": "code",
      "metadata": {
        "id": "m-aPabyvc0Oe",
        "colab_type": "code",
        "colab": {},
        "outputId": "023a9665-50df-4787-b976-f0fb34bf014f"
      },
      "source": [
        "'''  \n",
        "Programa principal a rigor os valores de W,C1,C2 nao precisavam estar aqui mas esta por conta de implemntacao\n",
        "com objetivo distinto desta q usa o mesmo codigo como codigo inicial\n",
        "'''\n",
        "W=0.75\n",
        "C1=2\n",
        "C2=2\n",
        "NPAR=20 #PARTICULAS\n",
        "ITE=500 #ITERACOES\n",
        "PAR=2 #NUM DE PARAMETROS A SER OTIMIZADOS\n",
        "MAX=[1,1] # MAXIMO DE CADA PARAMETRO\n",
        "MIN=[-1,-1] # MINIMO DE CADA PARAMETRO\n",
        "x,M,BEST=PSO(W,C1,C2,NPAR,ITE,PAR,MAX,MIN)\n",
        "print('melhor',BEST)\n",
        "print(M)\n",
        "Y_ordenado = sorted(M,key=lambda M: M[2])\n",
        "print(Y_ordenado)\n"
      ],
      "execution_count": 0,
      "outputs": [
        {
          "output_type": "stream",
          "text": [
            "melhor 0.00010704021183360856\n",
            "[[ 4.00000000e-01  7.27222533e-01  3.25341401e+01]\n",
            " [ 5.97176409e-01  4.00000000e-01  3.50452200e-01]\n",
            " [ 4.00000000e-01  1.11660524e+00  9.18693588e+01]\n",
            " [ 9.83445025e-01  4.00000000e-01  3.21677876e+01]\n",
            " [ 8.77339136e-01 -3.37936890e-01  1.22706302e+02]\n",
            " [ 3.49814816e-01  4.45616636e-01  1.08715533e+01]\n",
            " [ 8.27876831e-01  6.55722223e-01  1.17585043e-01]\n",
            " [ 3.20243206e-01  4.69042880e-01  1.38933538e+01]\n",
            " [ 3.64054356e-01  2.74167496e-01  2.41038701e+00]\n",
            " [ 4.00000000e-01  4.00000000e-01  6.12000000e+00]\n",
            " [ 4.00868089e-01  6.72511898e-01  2.65545897e+01]\n",
            " [ 4.67277984e-01  4.47259692e-01  5.52381634e+00]\n",
            " [ 8.51608618e-01  1.14577441e+00  1.77071711e+01]\n",
            " [ 4.00000000e-01  4.00000000e-01  6.12000000e+00]\n",
            " [ 4.00000000e-01  9.52199823e-02  7.79645069e-01]\n",
            " [ 1.16511142e+00  9.88389784e-01  1.36503613e+01]\n",
            " [ 4.00000000e-01  6.71084444e-01  2.64807309e+01]\n",
            " [ 1.00730555e+00  4.00000000e-01  3.77812944e+01]\n",
            " [ 3.64827949e-01  9.85905116e-01  7.31311969e+01]\n",
            " [ 1.24142104e+00  1.05732885e+00  2.34642725e+01]]\n",
            "[array([0.82787683, 0.65572222, 0.11758504]), array([0.59717641, 0.4       , 0.3504522 ]), array([0.4       , 0.09521998, 0.77964507]), array([0.36405436, 0.2741675 , 2.41038701]), array([0.46727798, 0.44725969, 5.52381634]), array([0.4 , 0.4 , 6.12]), array([0.4 , 0.4 , 6.12]), array([ 0.34981482,  0.44561664, 10.87155334]), array([ 1.16511142,  0.98838978, 13.65036133]), array([ 0.32024321,  0.46904288, 13.89335376]), array([ 0.85160862,  1.14577441, 17.70717106]), array([ 1.24142104,  1.05732885, 23.46427251]), array([ 0.4       ,  0.67108444, 26.48073091]), array([ 0.40086809,  0.6725119 , 26.55458974]), array([ 0.98344502,  0.4       , 32.1677876 ]), array([ 0.4       ,  0.72722253, 32.53414015]), array([ 1.00730555,  0.4       , 37.78129438]), array([ 0.36482795,  0.98590512, 73.13119694]), array([ 0.4       ,  1.11660524, 91.86935881]), array([  0.87733914,  -0.33793689, 122.70630156])]\n"
          ],
          "name": "stdout"
        }
      ]
    },
    {
      "cell_type": "code",
      "metadata": {
        "id": "mI1WZpmHc0Oo",
        "colab_type": "code",
        "colab": {}
      },
      "source": [
        ""
      ],
      "execution_count": 0,
      "outputs": []
    },
    {
      "cell_type": "code",
      "metadata": {
        "id": "ShOgAsUwc0Ov",
        "colab_type": "code",
        "colab": {}
      },
      "source": [
        ""
      ],
      "execution_count": 0,
      "outputs": []
    }
  ]
}