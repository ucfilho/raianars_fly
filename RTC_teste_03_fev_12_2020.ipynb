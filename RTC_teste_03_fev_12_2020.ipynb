{
  "nbformat": 4,
  "nbformat_minor": 0,
  "metadata": {
    "colab": {
      "name": "RTC_teste_03_fev_12_2020.ipynb",
      "provenance": [],
      "collapsed_sections": [],
      "authorship_tag": "ABX9TyNv/x+aoJL6zHQRnL8PENVX",
      "include_colab_link": true
    },
    "kernelspec": {
      "name": "python3",
      "display_name": "Python 3"
    }
  },
  "cells": [
    {
      "cell_type": "markdown",
      "metadata": {
        "id": "view-in-github",
        "colab_type": "text"
      },
      "source": [
        "<a href=\"https://colab.research.google.com/github/ucfilho/raianars_fly/blob/master/RTC_teste_03_fev_12_2020.ipynb\" target=\"_parent\"><img src=\"https://colab.research.google.com/assets/colab-badge.svg\" alt=\"Open In Colab\"/></a>"
      ]
    },
    {
      "cell_type": "code",
      "metadata": {
        "id": "8WpGfU5luWrR",
        "colab_type": "code",
        "colab": {}
      },
      "source": [
        "import numpy as np\n",
        "from random import randint"
      ],
      "execution_count": 0,
      "outputs": []
    },
    {
      "cell_type": "code",
      "metadata": {
        "id": "8IQaQu5HPnLX",
        "colab_type": "code",
        "outputId": "44f8c32b-6797-4fbf-bcb8-41c66a56a0bc",
        "colab": {
          "base_uri": "https://localhost:8080/",
          "height": 55
        }
      },
      "source": [
        "'''\n",
        "Computers and Chemical Engineering 117 (2018) 82–96\n",
        "Stream Tin(K) Tout(K) CP(kW/K)\n",
        "H1      533   433     3.0\n",
        "H2      523   403     1.5\n",
        "C1      453   508     2.0\n",
        "C2      393   513     4.0\n",
        "HU      553   552     -\n",
        "CU      303   353     -\n",
        "\n",
        "U = 0.2 kW/( m 2 · K ) for all matches. Exchanger cost\n",
        "($) = 300 · A**0.5 for all matches. CHU = 110 $/(kW ·year).\n",
        "CCU = 12.2 $/(kW ·year).\n",
        "'''"
      ],
      "execution_count": 2,
      "outputs": [
        {
          "output_type": "execute_result",
          "data": {
            "text/plain": [
              "'\\nComputers and Chemical Engineering 117 (2018) 82–96\\nStream Tin(K) Tout(K) CP(kW/K)\\nH1      533   433     3.0\\nH2      523   403     1.5\\nC1      453   508     2.0\\nC2      393   513     4.0\\nHU      553   552     -\\nCU      303   353     -\\n\\nU = 0.2 kW/( m 2 · K ) for all matches. Exchanger cost\\n($) = 300 · A**0.5 for all matches. CHU = 110 $/(kW ·year).\\nCCU = 12.2 $/(kW ·year).\\n'"
            ]
          },
          "metadata": {
            "tags": []
          },
          "execution_count": 2
        }
      ]
    },
    {
      "cell_type": "code",
      "metadata": {
        "id": "mzZdloRRhbL3",
        "colab_type": "code",
        "outputId": "e357c1f9-a464-49a9-aed8-eaa12d651dec",
        "colab": {
          "base_uri": "https://localhost:8080/",
          "height": 35
        }
      },
      "source": [
        "'''\n",
        "H1 com C2: 533      --> 454.89\n",
        "H1 com C1: 454.89   --> 433\n",
        "\n",
        "H2 com C1: 523      --> 448.53\n",
        "H2 com C2: 448.53   --> 421.76\n",
        "\n",
        "'''"
      ],
      "execution_count": 3,
      "outputs": [
        {
          "output_type": "execute_result",
          "data": {
            "text/plain": [
              "'\\nH1 com C2: 533      --> 454.89\\nH1 com C1: 454.89   --> 433\\n\\nH2 com C1: 523      --> 448.53\\nH2 com C2: 448.53   --> 421.76\\n\\n'"
            ]
          },
          "metadata": {
            "tags": []
          },
          "execution_count": 3
        }
      ]
    },
    {
      "cell_type": "code",
      "metadata": {
        "id": "BjVwuGRpkkPc",
        "colab_type": "code",
        "colab": {}
      },
      "source": [
        "'''\n",
        "NE: numero de estagios\n",
        "Hot: numero de correntes quentes\n",
        "Cold: numero de correntes frias\n",
        "CPhot e CPcold: capacidades de trocas termicas (massa*calor especifico)\n",
        "Thot: temperaturas iniciais das correntes quentes\n",
        "Thot_target: temperatura final esperada (hot)\n",
        "Tcold_target: temperatura final esperada (cold)\n",
        "Alfa: matriz que contem os fatores para chegar nas temperaturas hot em cada estagio\n",
        "     (nao foi incluido aqui as associadas as utilidades q sao Thot_target)\n",
        "x: valores e Alfa sem ser colocado no formato matricial e tambem o TRC\n",
        "     (a lista x tera sempre 2*NE elementos sendo q alguns podem ser nao usados)\n",
        "TRC: representa qual correte fria troca com a quente \n",
        "    (serve para calcular as temperaturas das cold)\n",
        "'''\n",
        "# dados de entrada dos codigo\n",
        "NE=2\n",
        "Hot=2\n",
        "Cold=2\n",
        "Num=NE*Hot\n",
        "Thot=np.array([3.0,1.5])\n",
        "Tcold=np.array([2,4])\n",
        "CPhot=np.array([533,523])\n",
        "CPcold=np.array([393,403])\n",
        "Thot_target=np.array([433,453])\n",
        "Tcold_target=np.array([508,513])\n",
        "x=np.array([0.853452157598499,0.9518784761151048,0.8576099426386232,0.9403161438476803,2,1,1,2])\n"
      ],
      "execution_count": 0,
      "outputs": []
    },
    {
      "cell_type": "code",
      "metadata": {
        "id": "PmREZTQ6q8b7",
        "colab_type": "code",
        "colab": {
          "base_uri": "https://localhost:8080/",
          "height": 126
        },
        "outputId": "9ef304c1-5f32-47c5-9cf7-828a46ad6a1a"
      },
      "source": [
        "Alfa=x[0:Num].reshape((2, 2))\n",
        "TRC=x[(Num):(2*Num)].reshape((2, 2))\n",
        "\n",
        "print('matriz de temperaturas')\n",
        "print(Alfa)\n",
        "print('matriz quais correntes quentes trocam com quais frias')\n",
        "print(TRC)"
      ],
      "execution_count": 5,
      "outputs": [
        {
          "output_type": "stream",
          "text": [
            "matriz de temperaturas\n",
            "[[0.85345216 0.95187848]\n",
            " [0.85760994 0.94031614]]\n",
            "matriz quais correntes quentes trocam com quais frias\n",
            "[[2. 1.]\n",
            " [1. 2.]]\n"
          ],
          "name": "stdout"
        }
      ]
    },
    {
      "cell_type": "code",
      "metadata": {
        "id": "gYK-phRFghuz",
        "colab_type": "code",
        "colab": {}
      },
      "source": [
        "'''\n",
        "HotStream: rotina q chega nos valores das temperaturas da corrente quente ao \n",
        "           longo dos estagios....\n",
        "Alfa: matriz com fatores q Thot sera corrigida\n",
        "NE: numero de estagios-incluir dois para representar todas temperaturas\n",
        "    pq nao foi considerado as utililidades e temperatura inicial\n",
        "Thot: temperatura quente inicial\n",
        "Thot_target: temperatura quente final\n",
        "Hot: numero de correntes quentes\n",
        "'''\n",
        "def HotStream(Alfa,NE,Thot,Thot_target,Hot):\n",
        "  Hot_Final=np.zeros((NE+2,Hot))\n",
        "  Hot_Final[0,:]=np.copy(Thot)\n",
        "  for i in range(Hot):\n",
        "    for j in range(NE):\n",
        "      k=i+1\n",
        "      Hot_Final[k,j]=Hot_Final[i,j]*Alfa[j,i]\n",
        "  Hot_Final[NE+1,:]=np.copy(Thot_target)\n",
        "  return Hot_Final\n",
        "      "
      ],
      "execution_count": 0,
      "outputs": []
    },
    {
      "cell_type": "code",
      "metadata": {
        "id": "IzohoSZbjmfx",
        "colab_type": "code",
        "outputId": "f9c84c43-a6a5-495f-cce8-d1e544434a08",
        "colab": {
          "base_uri": "https://localhost:8080/",
          "height": 108
        }
      },
      "source": [
        "Thot_calc=HotStream(Alfa,NE,Thot,Thot_target,Hot)\n",
        "print(Thot_calc)\n",
        "'''\n",
        "a ultima linha de Thot_calc representa a temperatura apos a utilidade, mas caso \n",
        "  nao utilize utilidades a ultima e penultima linhas se tornam iguais\n",
        "'''"
      ],
      "execution_count": 7,
      "outputs": [
        {
          "output_type": "stream",
          "text": [
            "[[  3.           1.5       ]\n",
            " [  2.56035647   1.28641491]\n",
            " [  2.43714822   1.20963671]\n",
            " [433.         453.        ]]\n"
          ],
          "name": "stdout"
        },
        {
          "output_type": "execute_result",
          "data": {
            "text/plain": [
              "'\\na ultima linha de Thot_calc representa a temperatura apos a utilidade, mas caso \\n  nao utilize utilidades a ultima e penultima linhas se tornam iguais\\n'"
            ]
          },
          "metadata": {
            "tags": []
          },
          "execution_count": 7
        }
      ]
    },
    {
      "cell_type": "code",
      "metadata": {
        "id": "8VX5yVcwlOgt",
        "colab_type": "code",
        "colab": {}
      },
      "source": [
        "'''\n",
        "ColdStream: rotina q chega nos valores de temperatura da corrente cold\n",
        "            deve ser chamada depois de HotStream pq precisa dos valores \n",
        "            de HotStream (Thot_calc)\n",
        "Thot_calc: perfil de temperatura utilizado no calculo de Tcold_calc\n",
        "CPhot e CPcold: capacidades de trocas termicas (massa*calor especifico)\n",
        "Tcold_calc: perfil de temperatura de saida do ColdStream\n",
        "TRC: matriz que orienta as escolhas das correntes torcas de calor\n",
        "Flag, Teste : teste logico para evitar q uma corrente cold troque no mesmo \n",
        "          estagio calor com duas correntes quentes \n",
        "Tcold_target: temperatura cold final\n",
        "Cold: numero de correntes frias\n",
        "Tcold: temperatura inicial das correntes frias\n",
        "'''\n",
        "def ColdStream(NE,Hot,Cold,TRC,Tcold,Thot_calc,Tcold_target,CPhot,CPcold):\n",
        "  Teste=np.zeros(Cold)\n",
        "  Cold_Final=np.zeros((NE+2,Cold))\n",
        "  Cold_Final[0,:]=np.copy(Tcold)\n",
        "  for j in range(NE):\n",
        "    for i in range(Cold):\n",
        "      ih=int(TRC[i,j]) # ih indice da hot q troca calor\n",
        "      Flag=Teste[ih]\n",
        "      k=i+1\n",
        "      Tf=Thot_calc[k,j] # temperatura final da hot na troca\n",
        "      Ti=Thot_calc[i,j] # temperatura inicial da hot na troca\n",
        "      if(Flag==0): # so trocar uma corrente por estagio\n",
        "        Teste[ih]=Teste[ih]+1\n",
        "        Cold_Final[k,j]=Cold_Final[i,j]-CPhot[ih]*(Tf-Ti)/CPcold[i]\n",
        "      else: # nao trocar porque ja foi utilizada\n",
        "        Cold_Final[k,j]=Cold_Final[i,j]\n",
        "  Cold_Final[NE+1,:]=np.copy(Tcold_target)\n",
        "  return Cold_Final"
      ],
      "execution_count": 0,
      "outputs": []
    },
    {
      "cell_type": "code",
      "metadata": {
        "id": "EuugH5w7vcre",
        "colab_type": "code",
        "colab": {
          "base_uri": "https://localhost:8080/",
          "height": 316
        },
        "outputId": "e5d6efd0-cedc-483b-edcf-267ec0cc1fee"
      },
      "source": [
        "Tcold_calc=ColdStream(NE,Hot,Cold,TRC,Tcold,Thot_calc,Tcold_target,CPhot,CPcold)\n",
        "print(Tcold_calc)"
      ],
      "execution_count": 9,
      "outputs": [
        {
          "output_type": "error",
          "ename": "IndexError",
          "evalue": "ignored",
          "traceback": [
            "\u001b[0;31m---------------------------------------------------------------------------\u001b[0m",
            "\u001b[0;31mIndexError\u001b[0m                                Traceback (most recent call last)",
            "\u001b[0;32m<ipython-input-9-f630ef6448c1>\u001b[0m in \u001b[0;36m<module>\u001b[0;34m()\u001b[0m\n\u001b[0;32m----> 1\u001b[0;31m \u001b[0mTcold_calc\u001b[0m\u001b[0;34m=\u001b[0m\u001b[0mColdStream\u001b[0m\u001b[0;34m(\u001b[0m\u001b[0mNE\u001b[0m\u001b[0;34m,\u001b[0m\u001b[0mHot\u001b[0m\u001b[0;34m,\u001b[0m\u001b[0mCold\u001b[0m\u001b[0;34m,\u001b[0m\u001b[0mTRC\u001b[0m\u001b[0;34m,\u001b[0m\u001b[0mTcold\u001b[0m\u001b[0;34m,\u001b[0m\u001b[0mThot_calc\u001b[0m\u001b[0;34m,\u001b[0m\u001b[0mTcold_target\u001b[0m\u001b[0;34m,\u001b[0m\u001b[0mCPhot\u001b[0m\u001b[0;34m,\u001b[0m\u001b[0mCPcold\u001b[0m\u001b[0;34m)\u001b[0m\u001b[0;34m\u001b[0m\u001b[0;34m\u001b[0m\u001b[0m\n\u001b[0m\u001b[1;32m      2\u001b[0m \u001b[0mprint\u001b[0m\u001b[0;34m(\u001b[0m\u001b[0mTcold_calc\u001b[0m\u001b[0;34m)\u001b[0m\u001b[0;34m\u001b[0m\u001b[0;34m\u001b[0m\u001b[0m\n",
            "\u001b[0;32m<ipython-input-8-7f0bf0ae23d5>\u001b[0m in \u001b[0;36mColdStream\u001b[0;34m(NE, Hot, Cold, TRC, Tcold, Thot_calc, Tcold_target, CPhot, CPcold)\u001b[0m\n\u001b[1;32m     20\u001b[0m     \u001b[0;32mfor\u001b[0m \u001b[0mi\u001b[0m \u001b[0;32min\u001b[0m \u001b[0mrange\u001b[0m\u001b[0;34m(\u001b[0m\u001b[0mCold\u001b[0m\u001b[0;34m)\u001b[0m\u001b[0;34m:\u001b[0m\u001b[0;34m\u001b[0m\u001b[0;34m\u001b[0m\u001b[0m\n\u001b[1;32m     21\u001b[0m       \u001b[0mih\u001b[0m\u001b[0;34m=\u001b[0m\u001b[0mint\u001b[0m\u001b[0;34m(\u001b[0m\u001b[0mTRC\u001b[0m\u001b[0;34m[\u001b[0m\u001b[0mi\u001b[0m\u001b[0;34m,\u001b[0m\u001b[0mj\u001b[0m\u001b[0;34m]\u001b[0m\u001b[0;34m)\u001b[0m \u001b[0;31m# ih indice da hot q troca calor\u001b[0m\u001b[0;34m\u001b[0m\u001b[0;34m\u001b[0m\u001b[0m\n\u001b[0;32m---> 22\u001b[0;31m       \u001b[0mFlag\u001b[0m\u001b[0;34m=\u001b[0m\u001b[0mTeste\u001b[0m\u001b[0;34m[\u001b[0m\u001b[0mih\u001b[0m\u001b[0;34m]\u001b[0m\u001b[0;34m\u001b[0m\u001b[0;34m\u001b[0m\u001b[0m\n\u001b[0m\u001b[1;32m     23\u001b[0m       \u001b[0mk\u001b[0m\u001b[0;34m=\u001b[0m\u001b[0mi\u001b[0m\u001b[0;34m+\u001b[0m\u001b[0;36m1\u001b[0m\u001b[0;34m\u001b[0m\u001b[0;34m\u001b[0m\u001b[0m\n\u001b[1;32m     24\u001b[0m       \u001b[0mTf\u001b[0m\u001b[0;34m=\u001b[0m\u001b[0mThot_calc\u001b[0m\u001b[0;34m[\u001b[0m\u001b[0mk\u001b[0m\u001b[0;34m,\u001b[0m\u001b[0mj\u001b[0m\u001b[0;34m]\u001b[0m \u001b[0;31m# temperatura final da hot na troca\u001b[0m\u001b[0;34m\u001b[0m\u001b[0;34m\u001b[0m\u001b[0m\n",
            "\u001b[0;31mIndexError\u001b[0m: index 2 is out of bounds for axis 0 with size 2"
          ]
        }
      ]
    }
  ]
}