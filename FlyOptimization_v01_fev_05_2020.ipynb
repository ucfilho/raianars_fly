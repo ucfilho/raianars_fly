{
  "nbformat": 4,
  "nbformat_minor": 0,
  "metadata": {
    "colab": {
      "name": "FlyOptimization_v01_fev_05_2020.ipynb",
      "provenance": [],
      "collapsed_sections": [],
      "include_colab_link": true
    },
    "kernelspec": {
      "name": "python3",
      "display_name": "Python 3"
    }
  },
  "cells": [
    {
      "cell_type": "markdown",
      "metadata": {
        "id": "view-in-github",
        "colab_type": "text"
      },
      "source": [
        "<a href=\"https://colab.research.google.com/github/ucfilho/raianars_fly/blob/master/FlyOptimization_v01_fev_05_2020.ipynb\" target=\"_parent\"><img src=\"https://colab.research.google.com/assets/colab-badge.svg\" alt=\"Open In Colab\"/></a>"
      ]
    },
    {
      "cell_type": "code",
      "metadata": {
        "id": "BfWZEAyt-WKf",
        "colab_type": "code",
        "outputId": "fa4603c1-be77-4fcb-85a6-05ee10d93882",
        "colab": {
          "base_uri": "https://localhost:8080/",
          "height": 35
        }
      },
      "source": [
        "import numpy as np\n",
        "from random import randint\n",
        "print(\"hello world, I am envolving !!!!\")"
      ],
      "execution_count": 0,
      "outputs": [
        {
          "output_type": "stream",
          "text": [
            "hello world, I am envolving !!!!\n"
          ],
          "name": "stdout"
        }
      ]
    },
    {
      "cell_type": "code",
      "metadata": {
        "id": "Y2WbkWEu-meR",
        "colab_type": "code",
        "colab": {}
      },
      "source": [
        "'''Rosembrock Function'''\n",
        "def funobj(x):\n",
        "    fun=0\n",
        "    a=1.0\n",
        "    b=100.0\n",
        "    fun = (a-x[0])**2 + b*(x[1]-x[0]**2)**2\n",
        "    return fun"
      ],
      "execution_count": 0,
      "outputs": []
    },
    {
      "cell_type": "code",
      "metadata": {
        "id": "Etoa7QpFA53A",
        "colab_type": "code",
        "colab": {}
      },
      "source": [
        " # Population initial\n",
        "  def init_ffa(NP,D,MIN,MAX):\n",
        "    ffa=np.zeros((NP,D))\n",
        "    for i in range(NP):\n",
        "      for j in range(D):\n",
        "        ffa[i,j]=MIN[j]+(MAX[j]-MIN[j])*np.random.random()\n",
        "    I=np.ones(NP)\n",
        "    return ffa,I"
      ],
      "execution_count": 0,
      "outputs": []
    },
    {
      "cell_type": "code",
      "metadata": {
        "id": "GTcn40PFCSYC",
        "colab_type": "code",
        "colab": {}
      },
      "source": [
        "  #optionally recalculate the new alpha value\n",
        "  def alpha_new(alpha,NGen):\n",
        "    delta =1-(10.0**(-4.0)/0.9)**(1/NGen)\n",
        "    alpha=(1-delta)*alpha\n",
        "    return alpha"
      ],
      "execution_count": 0,
      "outputs": []
    },
    {
      "cell_type": "code",
      "metadata": {
        "id": "JAhNutWCC-ab",
        "colab_type": "code",
        "colab": {}
      },
      "source": [
        "#Make sure the fireflies are within the bounds/limits\n",
        "def findlimits(NP,ffa,MIN,MAX):\n",
        "  for i in range(NP):\n",
        "    D=len(ffa[0,:])\n",
        "    for j in range(D):\n",
        "      if(ffa[i,j] < MIN[j]):\n",
        "        ffa[i,j] = MIN[j]\n",
        "      if(ffa[i,j] > MAX[j]):\n",
        "        ffa[i,j] = MAX[j]\n",
        "  return ffa"
      ],
      "execution_count": 0,
      "outputs": []
    },
    {
      "cell_type": "code",
      "metadata": {
        "id": "H10YY1k0GJdu",
        "colab_type": "code",
        "colab": {}
      },
      "source": [
        "# implementation of bubble sort\n",
        "def sort_ffa(I,NP):\n",
        "  # initialization of indexes\n",
        "  Index=np.ones(NP)\n",
        "  for i in range(NP):\n",
        "    Index[i]=i\n",
        "  # Bubble sort\n",
        "  for i in range((NP-1)):\n",
        "    for j in range(i+1,NP):\n",
        "      if(I[i] > I[j]):\n",
        "        z=[]\n",
        "        z = I[i] # exchange attractiveness\n",
        "        I[i] = I[j]\n",
        "        I[j] = z\n",
        "        k=[]\n",
        "        k = Index[i]\n",
        "        Index[i] = Index[j]\n",
        "        Index[j] = k\n",
        "  return I,Index"
      ],
      "execution_count": 0,
      "outputs": []
    },
    {
      "cell_type": "code",
      "metadata": {
        "id": "AYkg2_KQR_46",
        "colab_type": "code",
        "colab": {}
      },
      "source": [
        "# Move all fireflies to the better locations\n",
        "def move_ffa(NP,D,ffa,I,ffa_tmp,Io,nbest,fbest,alpha,betamin,gama,MIN,MAX): \n",
        "  for i in range(NP):\n",
        "    for j in range(NP):\n",
        "      r = 0.0\n",
        "      for k in range(D):\n",
        "        r += (ffa[i,k]-ffa[j,k])*(ffa[i,k]-ffa[j,k])\n",
        "      r=r**0.5\n",
        "      if(I[i] > I[j]):\t\n",
        "        beta0 = 1.0\n",
        "        beta = (beta0-betamin)*np.exp(-gama*r**2.0)+betamin\n",
        "        for k in range(D):\n",
        "          scale =MAX[k]-MIN[k]\n",
        "          r=np.random.random() \n",
        "          tmpf = alpha*(r-0.5)*scale\n",
        "          ffa[i,k] = ffa[i,k]*(1.0-beta)+ffa_tmp[j,k]*beta+tmpf \n",
        "\n",
        "    ffa = findlimits(NP,ffa,MIN,MAX)       \n",
        "  return ffa"
      ],
      "execution_count": 0,
      "outputs": []
    },
    {
      "cell_type": "code",
      "metadata": {
        "id": "tniTList-9SV",
        "colab_type": "code",
        "colab": {}
      },
      "source": [
        "def FireflyOptim(D,NP,MaxGeneration,alpha,betamin,gama,MIN,MAX):\n",
        "  \n",
        "  NumEval=0\n",
        "  \n",
        "  f=np.ones(NP) # initialize attractiveness\n",
        "\n",
        "  # generating the initial locations of n fireflies\n",
        "  ffa,I=init_ffa(NP,D,MIN,MAX)\n",
        "  NumEval=0\n",
        "  NumEval=NumEval+NP\n",
        "  XBest=ffa[0,:]\n",
        "  FBest=I[0]\n",
        "\n",
        "  for k in range(MaxGeneration):#start iterations\n",
        "    #This line of reducing alpha is optional\n",
        "    alpha=alpha_new(alpha,MaxGeneration)\n",
        "    # Evaluate new solutions\n",
        "    for i in range(NP):\n",
        "      f[i]=funobj(ffa[i,:])\n",
        "      NumEval=NumEval+1\n",
        "      I[i]=f[i]\n",
        "    # Ranking fireflies by their light intensity\n",
        "    I,Index=sort_ffa(f,NP)\n",
        "    ffa_tmp=np.zeros((NP,D)) \n",
        "    for i in range(NP):\n",
        "      for j in range(D):\n",
        "        ffa_tmp[i,j]=ffa[int(Index[i]),j]\n",
        "    for i in range(NP):\n",
        "      for j in range(D):\n",
        "        ffa[i,j]=ffa_tmp[i,j]\n",
        "\n",
        "    # Find the current best\n",
        "    ffa_tmp=ffa\n",
        "    Io=I\n",
        "    nbest=ffa[0,:]\n",
        "    fbest=I[0]\n",
        "  \n",
        "    # if current best is better than global best replace global by local best\n",
        "    if (fbest<FBest):\n",
        "      XBest=nbest\n",
        "      FBest=fbest\n",
        "\n",
        "    # Move all fireflies to the better locations\n",
        "    ffa =move_ffa(NP,D,ffa,I,ffa_tmp,Io,nbest,fbest,alpha,betamin,gama,MIN,MAX)\n",
        "  \n",
        "  return XBest,FBest,NumEval\n",
        "\n"
      ],
      "execution_count": 0,
      "outputs": []
    },
    {
      "cell_type": "code",
      "metadata": {
        "id": "UF0EP_jG61ur",
        "colab_type": "code",
        "outputId": "24e9edd5-f502-4e3b-d758-fd514657a984",
        "colab": {
          "base_uri": "https://localhost:8080/",
          "height": 35
        }
      },
      "source": [
        "#=============================================================================\n",
        "# Classic Firefly algorithm coded from C/C++ original program\n",
        "# Original program: Firefly.cpp- Authors     : Dr. Iztok Fister and Iztok Fister Jr.\n",
        "# Paper:\n",
        "# I. Fister Jr.,  X.-S. Yang,  I. Fister, J. Brest, Memetic firefly algorithm for combinatorial optimization, \n",
        "# in Bioinspired Optimization Methods and their Applications (BIOMA 2012), B. Filipic and J.Silc, Eds. \n",
        "# Jozef Stefan Institute, Ljubljana, Slovenia, 2012\n",
        "#============================================================================= \n",
        "\n",
        "   \n",
        "D=2 # problem dimension\n",
        "MIN=[-10,-10] # lower bounds \n",
        "MAX=[10,10] # upper bounds\n",
        "NP=100 # number of fireflies \n",
        "MaxGeneration=200 # number of generations\n",
        "alpha=0.5 # randomization parameter \n",
        "betamin=0.2 # Firefly's attractiveness \n",
        "gama=1 # absorption coefficient\n",
        "\n",
        " \n",
        "# rotina que chama o código ... \n",
        "x,fval,NumEval =FireflyOptim(D,NP,MaxGeneration,alpha,betamin,gama,MIN,MAX)\n",
        "\n",
        "# x - solução encontrada\n",
        "# fval - função objetivo otimizada\n",
        "# NumEval - número de avaliações da função objetivo\n",
        "print('solucao=',x,'valor=',fval)\n"
      ],
      "execution_count": 0,
      "outputs": [
        {
          "output_type": "stream",
          "text": [
            "solucao= [1.00001717 1.00004488] valor= 1.1388706800429424e-08\n"
          ],
          "name": "stdout"
        }
      ]
    },
    {
      "cell_type": "code",
      "metadata": {
        "id": "0IUxtQfhMQzJ",
        "colab_type": "code",
        "outputId": "63bbdf25-3a8a-462d-a5e5-6566a99cead8",
        "colab": {
          "base_uri": "https://localhost:8080/",
          "height": 35
        }
      },
      "source": [
        "print(NumEval)"
      ],
      "execution_count": 0,
      "outputs": [
        {
          "output_type": "stream",
          "text": [
            "20100\n"
          ],
          "name": "stdout"
        }
      ]
    }
  ]
}