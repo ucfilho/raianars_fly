{
  "nbformat": 4,
  "nbformat_minor": 0,
  "metadata": {
    "colab": {
      "name": "RTC_DE_desmonta_IF_new_13_fev_22_2020.ipynb",
      "provenance": [],
      "collapsed_sections": [],
      "include_colab_link": true
    },
    "kernelspec": {
      "name": "python3",
      "display_name": "Python 3"
    }
  },
  "cells": [
    {
      "cell_type": "markdown",
      "metadata": {
        "id": "view-in-github",
        "colab_type": "text"
      },
      "source": [
        "<a href=\"https://colab.research.google.com/github/ucfilho/raianars_fly/blob/master/RTC_DE_desmonta_IF_new_13_fev_22_2020.ipynb\" target=\"_parent\"><img src=\"https://colab.research.google.com/assets/colab-badge.svg\" alt=\"Open In Colab\"/></a>"
      ]
    },
    {
      "cell_type": "code",
      "metadata": {
        "id": "wGzR2VpcZHYA",
        "colab_type": "code",
        "colab": {}
      },
      "source": [
        "import pandas as pd\n",
        "from scipy.optimize import differential_evolution\n",
        "import numpy as np"
      ],
      "execution_count": 0,
      "outputs": []
    },
    {
      "cell_type": "code",
      "metadata": {
        "id": "2htdoQZEvKVl",
        "colab_type": "code",
        "colab": {}
      },
      "source": [
        "# Funcoes utilizadas neste codigo\n",
        "# Area(U,tempAtual,tempInicial,...): constroi matriz de areas trocadores \n",
        "#                                    entra duas correntes sendo chamada no loop\n",
        "# buildMatriz(x,cols): constroi a matriz deltaT e binaria (logica de trocas)\n",
        "#\n",
        "# Temperatura(matrizDeltaT,...): constroi as temperaturas e cargas termicas"
      ],
      "execution_count": 0,
      "outputs": []
    },
    {
      "cell_type": "code",
      "metadata": {
        "id": "QH4J60cSP2OX",
        "colab_type": "code",
        "colab": {}
      },
      "source": [
        "def buildMatriz(x,cols):\n",
        "\n",
        "  nref=int(len(x)/2) # metade de x é deltaT e a outra metade variavel logica\n",
        "  matrizDeltaT=np.zeros((cols,cols))\n",
        "  matrizBinaria=np.zeros((cols,cols))\n",
        "\n",
        "  contador=0\n",
        "  for i in range(cols):\n",
        "    for j in range(cols):\n",
        "      soma=contador+nref\n",
        "      #print('%d %d %d %d %d'%(i,j,contador,nref,soma))\n",
        "      flag=0\n",
        "      if(i<j):\n",
        "        if(contador<nref):\n",
        "          flag=1\n",
        "      if(flag>0):\n",
        "        matrizDeltaT[i,j]=x[contador]\n",
        "        matrizBinaria[i,j]=round(x[contador+nref])\n",
        "        contador=contador+1\n",
        "        \n",
        "  return matrizDeltaT,matrizBinaria"
      ],
      "execution_count": 0,
      "outputs": []
    },
    {
      "cell_type": "code",
      "metadata": {
        "id": "Ha_XxG-tT7yB",
        "colab_type": "code",
        "colab": {}
      },
      "source": [
        "def Temperatura_Carga(mCp,matrizDeltaT,matrizBinaria,tempInicial):\n",
        "\n",
        "  cols=len(mCp)\n",
        "  cargaTermica=np.zeros((cols,cols))\n",
        "  contador=0\n",
        "  erro=0 # valor erro se torna erro=1 quando ha algum erro e vai penalizar\n",
        "  for i in range(cols):\n",
        "    for j in range(cols):\n",
        "      contador=contador+1\n",
        "      cargaTermica[i,j]=mCp[i]*matrizDeltaT[i,j]\n",
        "\n",
        "      if(i<j):\n",
        "        if(matrizBinaria[i,j]==1):\n",
        "          #i: CQ, j: CF\n",
        "          tempSaidaQ=tempAtual[i]+matrizDeltaT[i,j]\n",
        "          tempSaidaF=-cargaTermica[i,j]/(mCp[j])+tempAtual[j]\n",
        "          flag=0 # flag : indica que nao entra no teste logico\n",
        "          # usei flag no lugar q ifs pq a identacao ficou melhor assim\n",
        "          if(tempAtual[i] > tempAtual[j]): #Tquente maior Tfria: vaores atuais\n",
        "            if(tempSaidaQ > tempSaidaF): #Tquente maior Tfria: saidas\n",
        "              if(contador < cols):\n",
        "                flag=1\n",
        "          \n",
        "          if(flag>0):\n",
        "            tempAtual[i]=tempSaidaQ\n",
        "            tempAtual[j]=tempSaidaF\n",
        "          else:\n",
        "            erro=1\n",
        "\n",
        "\n",
        "  return tempAtual,cargaTermica,erro"
      ],
      "execution_count": 0,
      "outputs": []
    },
    {
      "cell_type": "code",
      "metadata": {
        "id": "_fKh1jXRcAOr",
        "colab_type": "code",
        "colab": {}
      },
      "source": [
        "def Area(U,tempAtual,tempInicial,cargaTermica,matrizDeltaT):\n",
        "  cols=len(tempInicial)\n",
        "  Trocador=np.zeros((cols,cols)) # matriz q armazena as areas dos trocadores\n",
        "  Area=[]\n",
        "\n",
        "  for i in range(cols):\n",
        "    for j in range(cols):\n",
        "      if(i<j):\n",
        "        Carga=cargaTermica[i,j]\n",
        "        # calcula a area de placas das duas correntes que trocam i e j\n",
        "\n",
        "        #a corrente i perde calor para a j\n",
        "        #i: CQ, j:CF\n",
        "        tempSaidaF=tempAtual[j]\n",
        "        tempSaidaQ=tempAtual[i]\n",
        "        try:\n",
        "          A=((tempSaidaQ-tempSaidaF)-(tempAtual[i]-tempAtual[j]))\n",
        "          B=np.log((tempSaidaQ-tempSaidaF)/(tempAtual[i]-tempAtual[j]))\n",
        "          deltaTMediaLog=A/B\n",
        "        except:\n",
        "          deltaTMediaLog=1e99\n",
        " \n",
        "        if(deltaTMediaLog==1e99):  \n",
        "          AreaCalc=1e99\n",
        "        else:\n",
        "          AreaCalc=abs(Carga/(U*deltaTMediaLog))\n",
        "\n",
        "        if(tempAtual[i]==tempInicial[i]):\n",
        "          AreaCalc=0\n",
        "\n",
        "        if(tempAtual[j]==tempInicial[j]):\n",
        "          AreaCalc=0\n",
        "\n",
        "        Soma_Area=Soma_Area+AreaCalc\n",
        "\n",
        "        Area.append(AreaCalc)\n",
        "\n",
        "  \n",
        "  return Area"
      ],
      "execution_count": 0,
      "outputs": []
    },
    {
      "cell_type": "code",
      "metadata": {
        "id": "_vAVl672mXZb",
        "colab_type": "code",
        "colab": {}
      },
      "source": [
        "def CustoProcesso(areaTrocadores,areaUtilidades,cargaUF,cargaUQ):\n",
        "  global coefCustoUQ,coefCustoUF\n",
        "  costTrocadores=0\n",
        "  for it in range(areaTrocadores):\n",
        "    for wii in range(areaUtilidade):\n",
        "      if(it<1e99):\n",
        "        costTrocadores=costTrocadores+300*(it**0.5+wii**0.5)\n",
        "      else:\n",
        "        costTrocadores=1e99\n",
        "        break\n",
        "        \n",
        "  costUQ=coefCustoUQ*cargaUQ\n",
        "  costUF=coefCustoUF*cargaUF\n",
        "\n",
        "  if(costTrocadores==1e99):\n",
        "    cost=1e99\n",
        "  else:\n",
        "    cost=costUQ+costUF+costTrocador\n",
        "  return cost"
      ],
      "execution_count": 0,
      "outputs": []
    },
    {
      "cell_type": "code",
      "metadata": {
        "id": "oJ7p1UbEHs4c",
        "colab_type": "code",
        "colab": {}
      },
      "source": [
        "def Utilidades(tempAlvo,tempAtual,mCp):\n",
        "\n",
        "  cols=len(mCp)\n",
        "  cargaUQ=0\n",
        "  cargaUF=0\n",
        "  Trocadores=[]\n",
        "  '''\n",
        "  caso I cita TUQin=553 e TQout=552, TUFin=303 TUFout=353\n",
        "  '''\n",
        "  \n",
        "  TUQin=553\n",
        "  TUQout=552\n",
        "  TUFin=303 \n",
        "  TUFout=353\n",
        "  areaTrocador=[]\n",
        "\n",
        "  for i in range(cols):\n",
        "    deltaT=tempAlvo[i]-tempAtual[i]\n",
        "    if(deltaT>0):#usa UQ\n",
        "      cargaUQ=cargaUQ+mCp[i]*deltaT\n",
        "      deltaT1=(TUQout-tempAlvo[i])\n",
        "      deltaT2=(TUQin-tempAtual[i])\n",
        "\n",
        "      try:\n",
        "        A=deltaT1-deltaT2\n",
        "        B=np.log(deltaT1/deltaT2)\n",
        "        deltaTMediaLog=A/B\n",
        "      except:\n",
        "        deltaTMediaLog=1e99\n",
        "\n",
        "      if(deltaTMediaLog==1e99):\n",
        "        areaTrocador.append(1e99)\n",
        "      else:\n",
        "        areaTrocador.append((abs(mCp[i]*(deltaT)/(U*deltaTMediaLog))))\n",
        "\n",
        "    elif(deltaT==0):#nao usa UF e UQ\n",
        "      deltaTMediaLog=0\n",
        "      areaTrocador.append(0) \n",
        "\n",
        "    else:#usa UF\n",
        "      deltaT1=(tempAlvo[i]-TUFout)\n",
        "      deltaT2=(tempAtual[i]-TUFin)     \n",
        "      cargaUF=cargaUF+mCp[i]*(-deltaT)\n",
        "\n",
        "      #UF -> água resfriada -> entra a 303K e sai a 353K\n",
        "      try:\n",
        "        A=deltaT1-deltaT2\n",
        "        B=np.log(deltaT1/deltaT2)\n",
        "        deltaTMediaLog=A/B\n",
        "      except:\n",
        "        deltaTMediaLog=1e99\n",
        "      \n",
        "      if(deltaTMediaLog==1e99):\n",
        "        areaTrocador.append(1e99)\n",
        "      else:\n",
        "        areaTrocador.append((abs(mCp[i]*(-deltaT)/(U*deltaTMediaLog))))\n",
        "\n",
        "  return areaTrocador, cargaUF,cargaUQ \n",
        "  # areaTrocador contem a soma das areas\n",
        "  # Trocadores a area associada a cada corrente\n",
        "  # cargaUF e cargaUQ kW gasto"
      ],
      "execution_count": 0,
      "outputs": []
    },
    {
      "cell_type": "code",
      "metadata": {
        "id": "lmPfZ7arakM1",
        "colab_type": "code",
        "colab": {
          "base_uri": "https://localhost:8080/",
          "height": 128
        },
        "outputId": "b39d9d93-a7cc-4de1-fa0f-9842ce4d38eb"
      },
      "source": [
        "#FUN calcula o TAC para um determinado arranjo\n",
        "#  cada calculo é feito em uma funcao a parte Fun usa todas funcoes \n",
        "\n",
        "def FUN(x):\n",
        "\n",
        "  global mCp,tempAtual,tempAlvo,U,coefCustoUQ,coefCustoUF\n",
        "  \n",
        "  cols=len(mCp)\n",
        "  tempInicial=np.copy(tempAtual) \n",
        "  matrizDeltaT,matrizBinaria=buildMatriz(x,cols) # transforma x em matriz logica e troca\n",
        "  tempAtual,Carga,Erro=Temperatura_Carga(mCp,matrizDeltaT,matrizBinaria,tempInicial)\n",
        "  areaTrocadores =Area(U,tempAtual,tempInicial,Carga,matrizDeltaT)\n",
        "  areaUtilidade, cargaUF,cargaUQ = Utilidades(tempAlvo,tempAtual,mCp)\n",
        "  custoTotal=CustoProcesso(areaTrocadores,areaUtilidades,cargaUF,cargaUQ)\n",
        "  cost=CustoProcesso(areaTrocadores,areaUtilidades,cargaUF,cargaUQ):\n",
        "\n",
        "  funr = np.where(np.isnan(cost), 1e99, cost)\n",
        "\n",
        "  if(Erro>0):\n",
        "    funr=1e99\n",
        "\n",
        "\n",
        "  return funr"
      ],
      "execution_count": 8,
      "outputs": [
        {
          "output_type": "error",
          "ename": "SyntaxError",
          "evalue": "ignored",
          "traceback": [
            "\u001b[0;36m  File \u001b[0;32m\"<ipython-input-8-e3ce2eba32a2>\"\u001b[0;36m, line \u001b[0;32m13\u001b[0m\n\u001b[0;31m    cost=CustoProcesso(areaTrocadores,areaUtilidades,cargaUF,cargaUQ):\u001b[0m\n\u001b[0m                                                                     ^\u001b[0m\n\u001b[0;31mSyntaxError\u001b[0m\u001b[0;31m:\u001b[0m invalid syntax\n"
          ]
        }
      ]
    },
    {
      "cell_type": "code",
      "metadata": {
        "id": "pU4mX9rEn8CZ",
        "colab_type": "code",
        "colab": {}
      },
      "source": [
        "#MATGRAF retorna o gráfico das trocas térmicas em cada trocador\n",
        "# function matrizGrafico=MATGRAF(matrizDeltaT,mCp,tempAtual)\n",
        "def MATGRAF(matrizDeltaT,mCp,tempAtual):\n",
        "  cols=len(mCp)\n",
        "  contador=0\n",
        "  matrizGrafico=[]\n",
        "  matrizGrafico.append(tempAtual)\n",
        "  for i in range(cols):\n",
        "    for j in range(cols):\n",
        "      if(i<j):\n",
        "        contador=contador+1\n",
        "        # i: CQ, j:CF\n",
        "        cargaTermica=mCp[i]*matrizDeltaT[i,j]\n",
        "        tempSaidaQ=tempAtual[i]+matrizDeltaT[i,j]\n",
        "        tempSaidaF=-cargaTermica/(mCp[j])+tempAtual[j]\n",
        "\n",
        "        flag=0 # flag : indica que nao entra no teste logico\n",
        "        # usei flag no lugar ifs pq identacao ficou melhor \n",
        "        if(tempAtual[i] > tempAtual[j]): #Tquente maior Tfria: valores atuais\n",
        "          if(tempSaidaQ > tempSaidaF): #Tquente maior Tfria: saidas\n",
        "            if(contador < cols):\n",
        "              flag=1\n",
        "        \n",
        "\n",
        "        if(flag>0):\n",
        "          tempAtual[i]=tempSaidaQ\n",
        "          tempAtual[j]=tempSaidaF\n",
        "          matrizGrafico.append(tempAtual)\n",
        "          \n",
        "  df=pd.DataFrame(matrizGrafico)\n",
        "  \n",
        "  return df"
      ],
      "execution_count": 0,
      "outputs": []
    },
    {
      "cell_type": "code",
      "metadata": {
        "id": "6p2pNTe-pBJH",
        "colab_type": "code",
        "colab": {}
      },
      "source": [
        "#MATBEST retorna a matriz com os deltas das trocas térmicas que ocorreram e a matriz binária\n",
        "# function [matrizTrocaBest,matrizBinaria]=MATBEST(x,mCp,tempAtual)\n",
        "def MATBEST(x,mCp,tempAtual):\n",
        "  \n",
        "  nref=int(len(x)/2)\n",
        "  #nref=0\n",
        "  cols=len(mCp)\n",
        "\n",
        "  # cada particula contem metade das variaveis para matriz binaria\n",
        "  # e outra metade para deltaT use nref e para separar os dois casos\n",
        "  matrizDeltaT=np.zeros((cols,cols))\n",
        "  matrizTrocaBest=np.zeros((cols,cols))\n",
        "  matrizBinaria=np.zeros((cols,cols))\n",
        "\n",
        "  contador=0\n",
        "  for i in range(cols):\n",
        "    for j in range(cols):\n",
        "      if(i<j):\n",
        "        matrizDeltaT[i,j]=x[contador]\n",
        "        matrizBinaria[i,j]=round(x[contador+nref])\n",
        "        contador=contador+1\n",
        "  \n",
        "    for i in range(cols):\n",
        "      for j in range(cols):\n",
        "        if(i<j):\n",
        "          if(matrizBinaria[i,j]==1):\n",
        "            #i: CQ, j: CF\n",
        "            cargaTermica=mCp[i]*matrizDeltaT[i,j]\n",
        "            tempSaidaQ=tempAtual[i]+matrizDeltaT[i,j]\n",
        "            tempSaidaF=-cargaTermica/(mCp[j])+tempAtual[j]\n",
        "            if(\n",
        "                  tempAtual[i]>tempAtual[j] and\n",
        "                  tempSaidaQ>tempAtual[j] and\n",
        "                  tempAtual[i]>tempSaidaF\n",
        "              ): #TQentra>TFentra & TQsai>TFentra & TQentra>TFsai\n",
        "              tempAtual[i]=tempSaidaQ\n",
        "              tempAtual[j]=tempSaidaF\n",
        "            else:\n",
        "              matrizDeltaT[i,j]=0\n",
        "  matrizTrocaBest=matrizDeltaT\n",
        "  return matrizTrocaBest,matrizBinaria"
      ],
      "execution_count": 0,
      "outputs": []
    },
    {
      "cell_type": "code",
      "metadata": {
        "id": "Dt6anZvATxzg",
        "colab_type": "code",
        "colab": {}
      },
      "source": [
        "#********************PROGRAMA PRINCIPAL*************************\n",
        "\n",
        "NPAR=100 #Número de partículas\n",
        "ITE=1000 #Número de iterações\n",
        "PAR=12 #Número de parâmetros a ser otimizados\n",
        "\n",
        "MAX=[0,0,0,0,0,0,1,1,1,1,1,1]\n",
        "MIN=[-100,-100,-100,-100,-100,-100,0,0,0,0,0,0]\n",
        "mCp=[4,2,1.5,3] #[kW/K]\n",
        "tempInicial=[453,393,523,533] #[K]\n",
        "tempAtual=[453,393,523,533] #[K]\n",
        "tempAlvo=[513,508,403,433] #[K]\n",
        "U=0.2 #[kW/(m2.K)]\n",
        "\n",
        "coefCustoUQ=110 #[$/(kW.ano)]\n",
        "coefCustoUF=12.2 #[$/(kW.ano)]\n",
        "\n",
        "bounds = []\n",
        "for i in range(12):\n",
        "  bounds.append((MAX[i],MIN[i]))\n",
        "\n"
      ],
      "execution_count": 0,
      "outputs": []
    },
    {
      "cell_type": "code",
      "metadata": {
        "id": "5qNdVcQ0HmQm",
        "colab_type": "code",
        "colab": {}
      },
      "source": [
        "\n",
        "fchoice=FUN\n",
        "result = differential_evolution(fchoice, bounds, maxiter=ITE, popsize=NPAR)\n",
        "print('temperatura atual=',tempAtual)\n",
        "print(result.x, result.fun)\n",
        "print(tempAtual)\n",
        "GBEST=result.x\n",
        "BEST=result.fun\n",
        "matrizTrocaBest,matrizBinaria=MATBEST(GBEST,mCp,tempAtual)\n",
        "matrizGrafico=MATGRAF(matrizTrocaBest,mCp,tempAtual)\n",
        "\n",
        "print('Melhor solução para %d iterações com %d partículas \\n'%(ITE,NPAR));print(GBEST)\n",
        "print('Valor da função f(gbest)=%f \\n'%BEST)\n",
        "print('matriz grafico');print(matrizGrafico)\n",
        "#print('Matriz de Trocas Térmicas \\n')\n",
        "#print(matrizTrocaBest)\n",
        "#print('Matriz Binária \\n')\n",
        "#print(matrizBinaria)\n"
      ],
      "execution_count": 0,
      "outputs": []
    },
    {
      "cell_type": "code",
      "metadata": {
        "id": "FFLGL1pzftiq",
        "colab_type": "code",
        "colab": {}
      },
      "source": [
        "cols=len(mCp)\n",
        "matrizDeltaT,matrizBinaria=buildMatriz(GBEST,cols) # transforma x em matriz logica e troca\n",
        "tempAtual,cargaTermica,erro=Temperatura_Carga(mCp,matrizDeltaT,matrizBinaria,tempInicial)\n",
        "Soma_Area,Trocador=Area(U,tempAtual,tempInicial,cargaTermica,matrizDeltaT)\n",
        "\n",
        "print('temperatura inicial');print(tempInicial)\n",
        "print('temperatura alvo');print(tempAlvo)\n",
        "print('temperatura atual');print(tempAtual)\n",
        "print('trocador');print(Trocador)"
      ],
      "execution_count": 0,
      "outputs": []
    },
    {
      "cell_type": "code",
      "metadata": {
        "id": "-pLfJUMDh1vx",
        "colab_type": "code",
        "colab": {}
      },
      "source": [
        "print(cols)\n",
        "print(GBEST)"
      ],
      "execution_count": 0,
      "outputs": []
    },
    {
      "cell_type": "code",
      "metadata": {
        "id": "p_h7HnO3zySn",
        "colab_type": "code",
        "colab": {}
      },
      "source": [
        "matrizDeltaT,matrizBinaria=buildMatriz(GBEST,cols) # transforma x em matriz logica e troca\n",
        "print('Matriz de Trocas Térmicas \\n')\n",
        "print(matrizDeltaT)\n",
        "print('Matriz Binária \\n')\n",
        "print(matrizBinaria)"
      ],
      "execution_count": 0,
      "outputs": []
    }
  ]
}